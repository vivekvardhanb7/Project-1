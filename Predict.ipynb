{
 "cells": [
  {
   "cell_type": "code",
   "execution_count": 1,
   "id": "93c3d685",
   "metadata": {},
   "outputs": [],
   "source": [
    "import speech_recognition as sr\n",
    "from gtts import gTTS\n",
    "import pyglet\n",
    "\n",
    "from PIL import ImageTk, Image\n",
    "import numpy\n",
    "import os, time\n",
    "#load the trained model to classify sign\n",
    "from keras.models import load_model\n",
    "\n",
    "from flask import Flask"
   ]
  },
  {
   "cell_type": "code",
   "execution_count": 2,
   "id": "d676a3ec",
   "metadata": {},
   "outputs": [
    {
     "name": "stderr",
     "output_type": "stream",
     "text": [
      "WARNING:absl:Compiled the loaded model, but the compiled metrics have yet to be built. `model.compile_metrics` will be empty until you train or evaluate the model.\n"
     ]
    }
   ],
   "source": [
    "model = load_model(r\"C:\\Users\\allab\\Desktop\\Voice Based Traffic Sign Recognition Using Deep Learning\\new_model.h5\")"
   ]
  },
  {
   "cell_type": "code",
   "execution_count": 3,
   "id": "62a174ae",
   "metadata": {},
   "outputs": [],
   "source": [
    "#dictionary to label all traffic signs class.\n",
    "classes = { 0:'Speed limit (20km/h)',\n",
    "           1:'Speed limit (30km/h)',\n",
    "           2:'Speed limit (40km/h)',\n",
    "           3:'Speed limit (50km/h)',\n",
    "           4:'Speed limit (60km/h)',\n",
    "           5:'Turn Left Ahead',\n",
    "           6:'Turn Right Ahead',\n",
    "           7:'Stop',\n",
    "           8:'Road Work',\n",
    "           9:'No Parking',\n",
    "           10:'No Entry',\n",
    "           11:'Keep Left',\n",
    "           12:'Keep Right',\n",
    "           13:'Go straight or left',\n",
    "           14:'Go straight or right',\n",
    "           15:'Ahead Only',\n",
    "           16:'Bicycle Crossing',\n",
    "           17:'Children Crossing',\n",
    "           18:'Pedestrians',\n",
    "           19:'Road narrows on the right',\n",
    "           20:'General Caution',\n",
    "           21:'Dangerous Curve Left',\n",
    "           22:'Dangerous Curve Right'\n",
    "          }"
   ]
  },
  {
   "cell_type": "code",
   "execution_count": 4,
   "id": "7c547c06",
   "metadata": {
    "scrolled": true
   },
   "outputs": [
    {
     "name": "stdout",
     "output_type": "stream",
     "text": [
      "\u001b[1m1/1\u001b[0m \u001b[32m━━━━━━━━━━━━━━━━━━━━\u001b[0m\u001b[37m\u001b[0m \u001b[1m0s\u001b[0m 113ms/step\n",
      "0.99931705\n",
      "2 : Speed limit (40km/h)\n"
     ]
    }
   ],
   "source": [
    "image = Image.open(r\"C:\\Users\\allab\\Desktop\\Voice Based Traffic Sign Recognition Using Deep Learning\\OriginalTrafficSignData\\2\\augmented_image_19055.jpg\")\n",
    "image = image.convert('RGB')\n",
    "image = image.resize((30,30))\n",
    "image = numpy.expand_dims(image, axis=0)\n",
    "image = numpy.array(image)\n",
    "#     image.shape\n",
    "pred = list(model.predict([image])[0])\n",
    "# sign = classes[pred+1]\n",
    "# print(pred)\n",
    "# max(pred)\n",
    "# print(pred.index(max(pred)))\n",
    "print(max(pred))\n",
    "result = classes[pred.index(max(pred))]\n",
    "print(str(pred.index(max(pred))) + \" : \" + result)"
   ]
  },
  {
   "cell_type": "code",
   "execution_count": 5,
   "id": "f685a7ca",
   "metadata": {},
   "outputs": [],
   "source": [
    "tts = gTTS(text=result, lang='en')\n",
    "ttsname=(\"name.mp3\") #Example: path -> C:\\Users\\sayak\\Desktop> just change with your desktop directory. Don't use my directory.\n",
    "tts.save(ttsname)\n",
    "\n",
    "music = pyglet.media.load(ttsname, streaming = False)\n",
    "music.play()\n",
    "\n",
    "time.sleep(music.duration)\n",
    "os.remove(ttsname)"
   ]
  },
  {
   "cell_type": "code",
   "execution_count": null,
   "id": "37ae26ad",
   "metadata": {},
   "outputs": [],
   "source": []
  },
  {
   "cell_type": "code",
   "execution_count": 6,
   "id": "68834e87",
   "metadata": {},
   "outputs": [],
   "source": [
    "from flask import *\n",
    "from werkzeug.wrappers import Request, Response\n",
    "import shutil"
   ]
  },
  {
   "cell_type": "code",
   "execution_count": 7,
   "id": "02713b37",
   "metadata": {},
   "outputs": [
    {
     "name": "stderr",
     "output_type": "stream",
     "text": [
      "WARNING:absl:Compiled the loaded model, but the compiled metrics have yet to be built. `model.compile_metrics` will be empty until you train or evaluate the model.\n"
     ]
    }
   ],
   "source": [
    "model = load_model(r\"C:\\Users\\allab\\Desktop\\Voice Based Traffic Sign Recognition Using Deep Learning\\new_model.h5\")"
   ]
  },
  {
   "cell_type": "code",
   "execution_count": null,
   "id": "8e7d0fc7",
   "metadata": {},
   "outputs": [
    {
     "name": "stderr",
     "output_type": "stream",
     "text": [
      "INFO:werkzeug:\u001b[31m\u001b[1mWARNING: This is a development server. Do not use it in a production deployment. Use a production WSGI server instead.\u001b[0m\n",
      " * Running on http://localhost:4200\n",
      "INFO:werkzeug:\u001b[33mPress CTRL+C to quit\u001b[0m\n",
      "INFO:werkzeug:127.0.0.1 - - [02/Sep/2024 21:45:26] \"GET / HTTP/1.1\" 200 -\n"
     ]
    },
    {
     "name": "stdout",
     "output_type": "stream",
     "text": [
      "\u001b[1m1/1\u001b[0m \u001b[32m━━━━━━━━━━━━━━━━━━━━\u001b[0m\u001b[37m\u001b[0m \u001b[1m0s\u001b[0m 83ms/step\n",
      "1.0\n",
      "8 : Road Work\n"
     ]
    },
    {
     "name": "stderr",
     "output_type": "stream",
     "text": [
      "INFO:werkzeug:127.0.0.1 - - [02/Sep/2024 21:51:33] \"POST /success HTTP/1.1\" 200 -\n"
     ]
    },
    {
     "name": "stdout",
     "output_type": "stream",
     "text": [
      "\u001b[1m1/1\u001b[0m \u001b[32m━━━━━━━━━━━━━━━━━━━━\u001b[0m\u001b[37m\u001b[0m \u001b[1m0s\u001b[0m 22ms/step\n",
      "0.99999845\n",
      "20 : General Caution\n"
     ]
    },
    {
     "name": "stderr",
     "output_type": "stream",
     "text": [
      "INFO:werkzeug:127.0.0.1 - - [02/Sep/2024 21:53:28] \"POST /success HTTP/1.1\" 200 -\n"
     ]
    },
    {
     "name": "stdout",
     "output_type": "stream",
     "text": [
      "\u001b[1m1/1\u001b[0m \u001b[32m━━━━━━━━━━━━━━━━━━━━\u001b[0m\u001b[37m\u001b[0m \u001b[1m0s\u001b[0m 26ms/step\n",
      "0.8851453\n",
      "0 : Speed limit (20km/h)\n"
     ]
    },
    {
     "name": "stderr",
     "output_type": "stream",
     "text": [
      "INFO:werkzeug:127.0.0.1 - - [02/Sep/2024 21:54:10] \"POST /success HTTP/1.1\" 200 -\n"
     ]
    },
    {
     "name": "stdout",
     "output_type": "stream",
     "text": [
      "\u001b[1m1/1\u001b[0m \u001b[32m━━━━━━━━━━━━━━━━━━━━\u001b[0m\u001b[37m\u001b[0m \u001b[1m0s\u001b[0m 23ms/step\n",
      "0.92273766\n",
      "10 : No Entry\n"
     ]
    },
    {
     "name": "stderr",
     "output_type": "stream",
     "text": [
      "INFO:werkzeug:127.0.0.1 - - [02/Sep/2024 22:00:01] \"POST /success HTTP/1.1\" 200 -\n"
     ]
    },
    {
     "name": "stdout",
     "output_type": "stream",
     "text": [
      "\u001b[1m1/1\u001b[0m \u001b[32m━━━━━━━━━━━━━━━━━━━━\u001b[0m\u001b[37m\u001b[0m \u001b[1m0s\u001b[0m 26ms/step\n",
      "1.0\n",
      "19 : Road narrows on the right\n"
     ]
    },
    {
     "name": "stderr",
     "output_type": "stream",
     "text": [
      "INFO:werkzeug:127.0.0.1 - - [02/Sep/2024 22:01:01] \"POST /success HTTP/1.1\" 200 -\n",
      "Exception ignored on calling ctypes callback function: <function _found_impl.<locals>.self_extracting_cb_func at 0x000001AD3C476160>\n",
      "Traceback (most recent call last):\n",
      "  File \"C:\\Users\\allab\\AppData\\Local\\Programs\\Python\\Python312\\Lib\\site-packages\\pyglet\\libs\\win32\\com.py\", line 260, in self_extracting_cb_func\n",
      "    result = method_func(self, *args)\n",
      "             ^^^^^^^^^^^^^^^^^^^^^^^^\n",
      "  File \"C:\\Users\\allab\\AppData\\Local\\Programs\\Python\\Python312\\Lib\\site-packages\\pyglet\\media\\drivers\\xaudio2\\interface.py\", line 90, in OnCriticalError\n",
      "    raise Exception(\"Critical Error:\", hresult)\n",
      "Exception: ('Critical Error:', -2004353023)\n"
     ]
    }
   ],
   "source": [
    "app = Flask(__name__) \n",
    "\n",
    "@app.route('/')  \n",
    "def upload(): \n",
    "    return render_template(\"file_upload_form.html\")\n",
    "\n",
    "@app.route('/success', methods = ['POST'])  \n",
    "def success():  \n",
    "    if request.method == 'POST':\n",
    "        inputImage= request.files['file']  \n",
    "        imageFileName=inputImage.filename\n",
    "        image = Image.open(inputImage)\n",
    "        image = image.convert('RGB')\n",
    "        image = image.resize((30,30))\n",
    "        image = numpy.expand_dims(image, axis=0)\n",
    "        image = numpy.array(image)\n",
    "        pred = list(model.predict([image])[0])\n",
    "        result = classes[pred.index(max(pred))]\n",
    "        print(max(pred))\n",
    "        print(str(pred.index(max(pred))) + \" : \" + result)     \n",
    "        tts = gTTS(text=result, lang='en')\n",
    "        ttsname=(\"name.mp3\") #Example: path -> C:\\Users\\sayak\\Desktop> just change with your desktop directory. Don't use my directory.\n",
    "        tts.save(ttsname)\n",
    "\n",
    "        music = pyglet.media.load(ttsname, streaming = False)\n",
    "        music.play()\n",
    "\n",
    "        time.sleep(music.duration)\n",
    "        os.remove(ttsname)\n",
    "        \n",
    "        return render_template(\"success.html\", name = imageFileName, target=result)  \n",
    "  \n",
    "\n",
    "\n",
    "\n",
    "if __name__ == '__main__':  \n",
    "    from werkzeug.serving import run_simple\n",
    "    run_simple('localhost', 4200, app)\n",
    "\n"
   ]
  },
  {
   "cell_type": "code",
   "execution_count": null,
   "id": "dbed00f1",
   "metadata": {},
   "outputs": [],
   "source": []
  },
  {
   "cell_type": "code",
   "execution_count": null,
   "id": "ad9cd0ef-d11b-4f87-b4cc-87da3fde2b1a",
   "metadata": {},
   "outputs": [],
   "source": []
  }
 ],
 "metadata": {
  "kernelspec": {
   "display_name": "Python 3 (ipykernel)",
   "language": "python",
   "name": "python3"
  },
  "language_info": {
   "codemirror_mode": {
    "name": "ipython",
    "version": 3
   },
   "file_extension": ".py",
   "mimetype": "text/x-python",
   "name": "python",
   "nbconvert_exporter": "python",
   "pygments_lexer": "ipython3",
   "version": "3.12.4"
  }
 },
 "nbformat": 4,
 "nbformat_minor": 5
}
