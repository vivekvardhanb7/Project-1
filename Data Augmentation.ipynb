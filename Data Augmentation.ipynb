{
 "cells": [
  {
   "cell_type": "code",
   "execution_count": 1,
   "id": "b752c7d6",
   "metadata": {},
   "outputs": [],
   "source": [
    "from tensorflow.keras.preprocessing.image import ImageDataGenerator\n",
    "import os\n",
    "import numpy as np\n",
    "from PIL import Image"
   ]
  },
  {
   "cell_type": "code",
   "execution_count": 2,
   "id": "6337b9ce",
   "metadata": {},
   "outputs": [],
   "source": [
    "# Define the directory where augmented images will be saved\n",
    "save_to_dir = r\"C:\\Users\\allab\\Desktop\\Voice Based Traffic Sign Recognition Using Deep Learning\\OriginalTrafficSignData\""
   ]
  },
  {
   "cell_type": "code",
   "execution_count": 3,
   "id": "f35bade9",
   "metadata": {},
   "outputs": [],
   "source": [
    "# Define the augmentation parameters\n",
    "datagen = ImageDataGenerator(\n",
    "    rotation_range=10,\n",
    "    width_shift_range=0.1,\n",
    "    height_shift_range=0.1,\n",
    "    shear_range=0.1,\n",
    "    brightness_range=(0.5,2.0),\n",
    "    zoom_range=0.2,\n",
    "    fill_mode=\"nearest\"\n",
    ")"
   ]
  },
  {
   "cell_type": "code",
   "execution_count": 5,
   "id": "cf2847eb",
   "metadata": {},
   "outputs": [
    {
     "name": "stdout",
     "output_type": "stream",
     "text": [
      "Found 106 images belonging to 23 classes.\n"
     ]
    }
   ],
   "source": [
    "# Example for training data augmentation\n",
    "train_datagen = datagen.flow_from_directory(\n",
    "    r\"C:\\Users\\allab\\Desktop\\Voice Based Traffic Sign Recognition Using Deep Learning\\OriginalTrafficSignData\",\n",
    "    target_size=(224, 224),\n",
    "    batch_size=32,\n",
    "    class_mode=\"categorical\",\n",
    "    shuffle=False  # Ensure that the order of images is consistent\n",
    ")"
   ]
  },
  {
   "cell_type": "code",
   "execution_count": 6,
   "id": "0d22a6f2",
   "metadata": {
    "scrolled": true
   },
   "outputs": [
    {
     "data": {
      "text/plain": [
       "{'0': 0,\n",
       " '1': 1,\n",
       " '10': 2,\n",
       " '11': 3,\n",
       " '12': 4,\n",
       " '13': 5,\n",
       " '14': 6,\n",
       " '15': 7,\n",
       " '16': 8,\n",
       " '17': 9,\n",
       " '18': 10,\n",
       " '19': 11,\n",
       " '2': 12,\n",
       " '20': 13,\n",
       " '21': 14,\n",
       " '22': 15,\n",
       " '3': 16,\n",
       " '4': 17,\n",
       " '5': 18,\n",
       " '6': 19,\n",
       " '7': 20,\n",
       " '8': 21,\n",
       " '9': 22}"
      ]
     },
     "execution_count": 6,
     "metadata": {},
     "output_type": "execute_result"
    }
   ],
   "source": [
    "# Get class indices mapping\n",
    "class_indices = train_datagen.class_indices\n",
    "class_indices"
   ]
  },
  {
   "cell_type": "code",
   "execution_count": 7,
   "id": "4e55b9e7",
   "metadata": {},
   "outputs": [],
   "source": [
    "# Create class directories if they don't exist\n",
    "for class_name in class_indices.keys(): \n",
    "    class_dir = os.path.join(save_to_dir, class_name)\n",
    "    os.makedirs(class_dir, exist_ok=True)"
   ]
  },
  {
   "cell_type": "code",
   "execution_count": 8,
   "id": "10d5eac7",
   "metadata": {},
   "outputs": [
    {
     "name": "stdout",
     "output_type": "stream",
     "text": [
      "4\n"
     ]
    }
   ],
   "source": [
    "# Specify the number of batches to generate (adjust as needed)\n",
    "num_batches = len(train_datagen)\n",
    "print(num_batches)"
   ]
  },
  {
   "cell_type": "code",
   "execution_count": 9,
   "id": "e8ba753f",
   "metadata": {},
   "outputs": [],
   "source": [
    "# Specify the number of augmented images to generate per original image\n",
    "num_augmented_images_per_original = 1000"
   ]
  },
  {
   "cell_type": "code",
   "execution_count": 10,
   "id": "5dbf3f15",
   "metadata": {},
   "outputs": [
    {
     "name": "stdout",
     "output_type": "stream",
     "text": [
      "Augumented images  created for class: 0\n",
      "Augumented images  created for class: 0\n",
      "Augumented images  created for class: 0\n",
      "Augumented images  created for class: 0\n",
      "Augumented images  created for class: 1\n",
      "Augumented images  created for class: 1\n",
      "Augumented images  created for class: 1\n",
      "Augumented images  created for class: 1\n",
      "Augumented images  created for class: 1\n",
      "Augumented images  created for class: 1\n",
      "Augumented images  created for class: 1\n",
      "Augumented images  created for class: 10\n",
      "Augumented images  created for class: 10\n",
      "Augumented images  created for class: 10\n",
      "Augumented images  created for class: 11\n",
      "Augumented images  created for class: 11\n",
      "Augumented images  created for class: 11\n",
      "Augumented images  created for class: 12\n",
      "Augumented images  created for class: 12\n",
      "Augumented images  created for class: 12\n",
      "Augumented images  created for class: 12\n",
      "Augumented images  created for class: 13\n",
      "Augumented images  created for class: 13\n",
      "Augumented images  created for class: 13\n",
      "Augumented images  created for class: 14\n",
      "Augumented images  created for class: 14\n",
      "Augumented images  created for class: 14\n",
      "Augumented images  created for class: 14\n",
      "Augumented images  created for class: 14\n",
      "Augumented images  created for class: 15\n",
      "Augumented images  created for class: 15\n",
      "Augumented images  created for class: 15\n",
      "Augumented images  created for class: 15\n",
      "Augumented images  created for class: 16\n",
      "Augumented images  created for class: 16\n",
      "Augumented images  created for class: 16\n",
      "Augumented images  created for class: 16\n",
      "Augumented images  created for class: 16\n",
      "Augumented images  created for class: 17\n",
      "Augumented images  created for class: 17\n",
      "Augumented images  created for class: 17\n",
      "Augumented images  created for class: 17\n",
      "Augumented images  created for class: 17\n",
      "Augumented images  created for class: 17\n",
      "Augumented images  created for class: 18\n",
      "Augumented images  created for class: 18\n",
      "Augumented images  created for class: 18\n",
      "Augumented images  created for class: 18\n",
      "Augumented images  created for class: 19\n",
      "Augumented images  created for class: 19\n",
      "Augumented images  created for class: 19\n",
      "Augumented images  created for class: 2\n",
      "Augumented images  created for class: 2\n",
      "Augumented images  created for class: 2\n",
      "Augumented images  created for class: 2\n",
      "Augumented images  created for class: 20\n",
      "Augumented images  created for class: 20\n",
      "Augumented images  created for class: 20\n",
      "Augumented images  created for class: 21\n",
      "Augumented images  created for class: 21\n",
      "Augumented images  created for class: 21\n",
      "Augumented images  created for class: 22\n",
      "Augumented images  created for class: 22\n",
      "Augumented images  created for class: 22\n",
      "Augumented images  created for class: 3\n",
      "Augumented images  created for class: 3\n",
      "Augumented images  created for class: 3\n",
      "Augumented images  created for class: 3\n",
      "Augumented images  created for class: 3\n",
      "Augumented images  created for class: 3\n",
      "Augumented images  created for class: 4\n",
      "Augumented images  created for class: 4\n",
      "Augumented images  created for class: 4\n",
      "Augumented images  created for class: 4\n",
      "Augumented images  created for class: 4\n",
      "Augumented images  created for class: 4\n",
      "Augumented images  created for class: 5\n",
      "Augumented images  created for class: 5\n",
      "Augumented images  created for class: 5\n",
      "Augumented images  created for class: 5\n",
      "Augumented images  created for class: 5\n",
      "Augumented images  created for class: 5\n",
      "Augumented images  created for class: 6\n",
      "Augumented images  created for class: 6\n",
      "Augumented images  created for class: 6\n",
      "Augumented images  created for class: 6\n",
      "Augumented images  created for class: 6\n",
      "Augumented images  created for class: 6\n",
      "Augumented images  created for class: 6\n",
      "Augumented images  created for class: 6\n",
      "Augumented images  created for class: 7\n",
      "Augumented images  created for class: 7\n",
      "Augumented images  created for class: 7\n",
      "Augumented images  created for class: 7\n",
      "Augumented images  created for class: 7\n",
      "Augumented images  created for class: 7\n",
      "Augumented images  created for class: 8\n",
      "Augumented images  created for class: 8\n",
      "Augumented images  created for class: 8\n",
      "Augumented images  created for class: 8\n",
      "Augumented images  created for class: 8\n",
      "Augumented images  created for class: 8\n",
      "Augumented images  created for class: 8\n",
      "Augumented images  created for class: 9\n",
      "Augumented images  created for class: 9\n",
      "Augumented images  created for class: 9\n",
      "Augmented images saved to: C:\\Users\\allab\\Desktop\\Voice Based Traffic Sign Recognition Using Deep Learning\\OriginalTrafficSignData\n"
     ]
    }
   ],
   "source": [
    "# Generate and save augmented images for each batch\n",
    "for i, (batch_x, batch_y) in enumerate(train_datagen):\n",
    "    for j in range(batch_x.shape[0]):\n",
    "        original_image = batch_x[j]\n",
    "        class_name = list(class_indices.keys())[np.argmax(batch_y[j])]\n",
    "        \n",
    "        # Generate and save multiple augmented versions of the original image\n",
    "        for k in range(num_augmented_images_per_original):\n",
    "            augmented_image = datagen.random_transform(original_image)\n",
    "            augmented_image = Image.fromarray(np.uint8(augmented_image))\n",
    "            image_filename = f\"augmented_image_{i * train_datagen.batch_size + j * num_augmented_images_per_original + k}.jpg\"\n",
    "            augmented_image.save(os.path.join(save_to_dir, class_name, image_filename))\n",
    "        print(\"Augumented images  created for class: \" + str(class_name))\n",
    "    \n",
    "    # Break the loop if all batches have been processed\n",
    "    if i == len(train_datagen) - 1:\n",
    "        break\n",
    "\n",
    "print(\"Augmented images saved to:\", save_to_dir)"
   ]
  },
  {
   "cell_type": "code",
   "execution_count": null,
   "id": "38aaaf1f",
   "metadata": {},
   "outputs": [],
   "source": []
  },
  {
   "cell_type": "code",
   "execution_count": null,
   "id": "8c310ebf",
   "metadata": {},
   "outputs": [],
   "source": []
  },
  {
   "cell_type": "code",
   "execution_count": null,
   "id": "93ea8526",
   "metadata": {},
   "outputs": [],
   "source": []
  }
 ],
 "metadata": {
  "kernelspec": {
   "display_name": "Python 3 (ipykernel)",
   "language": "python",
   "name": "python3"
  },
  "language_info": {
   "codemirror_mode": {
    "name": "ipython",
    "version": 3
   },
   "file_extension": ".py",
   "mimetype": "text/x-python",
   "name": "python",
   "nbconvert_exporter": "python",
   "pygments_lexer": "ipython3",
   "version": "3.12.4"
  }
 },
 "nbformat": 4,
 "nbformat_minor": 5
}
