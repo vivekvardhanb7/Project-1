{
 "cells": [
  {
   "cell_type": "code",
   "execution_count": 1,
   "id": "96d2ffd3",
   "metadata": {
    "scrolled": true
   },
   "outputs": [
    {
     "name": "stdout",
     "output_type": "stream",
     "text": [
      "Requirement already satisfied: tensorflow in c:\\users\\allab\\appdata\\local\\programs\\python\\python312\\lib\\site-packages (2.16.1)\n",
      "Collecting tensorflow\n",
      "  Downloading tensorflow-2.17.0-cp312-cp312-win_amd64.whl.metadata (3.2 kB)\n",
      "Collecting tensorflow-intel==2.17.0 (from tensorflow)\n",
      "  Downloading tensorflow_intel-2.17.0-cp312-cp312-win_amd64.whl.metadata (5.0 kB)\n",
      "Requirement already satisfied: absl-py>=1.0.0 in c:\\users\\allab\\appdata\\local\\programs\\python\\python312\\lib\\site-packages (from tensorflow-intel==2.17.0->tensorflow) (2.1.0)\n",
      "Requirement already satisfied: astunparse>=1.6.0 in c:\\users\\allab\\appdata\\local\\programs\\python\\python312\\lib\\site-packages (from tensorflow-intel==2.17.0->tensorflow) (1.6.3)\n",
      "Requirement already satisfied: flatbuffers>=24.3.25 in c:\\users\\allab\\appdata\\local\\programs\\python\\python312\\lib\\site-packages (from tensorflow-intel==2.17.0->tensorflow) (24.3.25)\n",
      "Requirement already satisfied: gast!=0.5.0,!=0.5.1,!=0.5.2,>=0.2.1 in c:\\users\\allab\\appdata\\local\\programs\\python\\python312\\lib\\site-packages (from tensorflow-intel==2.17.0->tensorflow) (0.5.4)\n",
      "Requirement already satisfied: google-pasta>=0.1.1 in c:\\users\\allab\\appdata\\local\\programs\\python\\python312\\lib\\site-packages (from tensorflow-intel==2.17.0->tensorflow) (0.2.0)\n",
      "Requirement already satisfied: h5py>=3.10.0 in c:\\users\\allab\\appdata\\local\\programs\\python\\python312\\lib\\site-packages (from tensorflow-intel==2.17.0->tensorflow) (3.11.0)\n",
      "Requirement already satisfied: libclang>=13.0.0 in c:\\users\\allab\\appdata\\local\\programs\\python\\python312\\lib\\site-packages (from tensorflow-intel==2.17.0->tensorflow) (18.1.1)\n",
      "Requirement already satisfied: ml-dtypes<0.5.0,>=0.3.1 in c:\\users\\allab\\appdata\\local\\programs\\python\\python312\\lib\\site-packages (from tensorflow-intel==2.17.0->tensorflow) (0.3.2)\n",
      "Requirement already satisfied: opt-einsum>=2.3.2 in c:\\users\\allab\\appdata\\local\\programs\\python\\python312\\lib\\site-packages (from tensorflow-intel==2.17.0->tensorflow) (3.3.0)\n",
      "Requirement already satisfied: packaging in c:\\users\\allab\\appdata\\local\\programs\\python\\python312\\lib\\site-packages (from tensorflow-intel==2.17.0->tensorflow) (24.0)\n",
      "Requirement already satisfied: protobuf!=4.21.0,!=4.21.1,!=4.21.2,!=4.21.3,!=4.21.4,!=4.21.5,<5.0.0dev,>=3.20.3 in c:\\users\\allab\\appdata\\local\\programs\\python\\python312\\lib\\site-packages (from tensorflow-intel==2.17.0->tensorflow) (4.25.3)\n",
      "Requirement already satisfied: requests<3,>=2.21.0 in c:\\users\\allab\\appdata\\local\\programs\\python\\python312\\lib\\site-packages (from tensorflow-intel==2.17.0->tensorflow) (2.31.0)\n",
      "Requirement already satisfied: setuptools in c:\\users\\allab\\appdata\\local\\programs\\python\\python312\\lib\\site-packages (from tensorflow-intel==2.17.0->tensorflow) (69.2.0)\n",
      "Requirement already satisfied: six>=1.12.0 in c:\\users\\allab\\appdata\\local\\programs\\python\\python312\\lib\\site-packages (from tensorflow-intel==2.17.0->tensorflow) (1.16.0)\n",
      "Requirement already satisfied: termcolor>=1.1.0 in c:\\users\\allab\\appdata\\local\\programs\\python\\python312\\lib\\site-packages (from tensorflow-intel==2.17.0->tensorflow) (2.4.0)\n",
      "Requirement already satisfied: typing-extensions>=3.6.6 in c:\\users\\allab\\appdata\\local\\programs\\python\\python312\\lib\\site-packages (from tensorflow-intel==2.17.0->tensorflow) (4.11.0)\n",
      "Requirement already satisfied: wrapt>=1.11.0 in c:\\users\\allab\\appdata\\local\\programs\\python\\python312\\lib\\site-packages (from tensorflow-intel==2.17.0->tensorflow) (1.16.0)\n",
      "Requirement already satisfied: grpcio<2.0,>=1.24.3 in c:\\users\\allab\\appdata\\local\\programs\\python\\python312\\lib\\site-packages (from tensorflow-intel==2.17.0->tensorflow) (1.62.2)\n",
      "Collecting tensorboard<2.18,>=2.17 (from tensorflow-intel==2.17.0->tensorflow)\n",
      "  Downloading tensorboard-2.17.1-py3-none-any.whl.metadata (1.6 kB)\n",
      "Requirement already satisfied: keras>=3.2.0 in c:\\users\\allab\\appdata\\local\\programs\\python\\python312\\lib\\site-packages (from tensorflow-intel==2.17.0->tensorflow) (3.2.1)\n",
      "Requirement already satisfied: numpy<2.0.0,>=1.26.0 in c:\\users\\allab\\appdata\\local\\programs\\python\\python312\\lib\\site-packages (from tensorflow-intel==2.17.0->tensorflow) (1.26.4)\n",
      "Requirement already satisfied: wheel<1.0,>=0.23.0 in c:\\users\\allab\\appdata\\local\\programs\\python\\python312\\lib\\site-packages (from astunparse>=1.6.0->tensorflow-intel==2.17.0->tensorflow) (0.43.0)\n",
      "Requirement already satisfied: rich in c:\\users\\allab\\appdata\\local\\programs\\python\\python312\\lib\\site-packages (from keras>=3.2.0->tensorflow-intel==2.17.0->tensorflow) (13.7.1)\n",
      "Requirement already satisfied: namex in c:\\users\\allab\\appdata\\local\\programs\\python\\python312\\lib\\site-packages (from keras>=3.2.0->tensorflow-intel==2.17.0->tensorflow) (0.0.8)\n",
      "Requirement already satisfied: optree in c:\\users\\allab\\appdata\\local\\programs\\python\\python312\\lib\\site-packages (from keras>=3.2.0->tensorflow-intel==2.17.0->tensorflow) (0.11.0)\n",
      "Requirement already satisfied: charset-normalizer<4,>=2 in c:\\users\\allab\\appdata\\local\\programs\\python\\python312\\lib\\site-packages (from requests<3,>=2.21.0->tensorflow-intel==2.17.0->tensorflow) (3.3.2)\n",
      "Requirement already satisfied: idna<4,>=2.5 in c:\\users\\allab\\appdata\\local\\programs\\python\\python312\\lib\\site-packages (from requests<3,>=2.21.0->tensorflow-intel==2.17.0->tensorflow) (3.6)\n",
      "Requirement already satisfied: urllib3<3,>=1.21.1 in c:\\users\\allab\\appdata\\local\\programs\\python\\python312\\lib\\site-packages (from requests<3,>=2.21.0->tensorflow-intel==2.17.0->tensorflow) (2.2.1)\n",
      "Requirement already satisfied: certifi>=2017.4.17 in c:\\users\\allab\\appdata\\local\\programs\\python\\python312\\lib\\site-packages (from requests<3,>=2.21.0->tensorflow-intel==2.17.0->tensorflow) (2024.2.2)\n",
      "Requirement already satisfied: markdown>=2.6.8 in c:\\users\\allab\\appdata\\local\\programs\\python\\python312\\lib\\site-packages (from tensorboard<2.18,>=2.17->tensorflow-intel==2.17.0->tensorflow) (3.6)\n",
      "Requirement already satisfied: tensorboard-data-server<0.8.0,>=0.7.0 in c:\\users\\allab\\appdata\\local\\programs\\python\\python312\\lib\\site-packages (from tensorboard<2.18,>=2.17->tensorflow-intel==2.17.0->tensorflow) (0.7.2)\n",
      "Requirement already satisfied: werkzeug>=1.0.1 in c:\\users\\allab\\appdata\\local\\programs\\python\\python312\\lib\\site-packages (from tensorboard<2.18,>=2.17->tensorflow-intel==2.17.0->tensorflow) (3.0.2)\n",
      "Requirement already satisfied: MarkupSafe>=2.1.1 in c:\\users\\allab\\appdata\\local\\programs\\python\\python312\\lib\\site-packages (from werkzeug>=1.0.1->tensorboard<2.18,>=2.17->tensorflow-intel==2.17.0->tensorflow) (2.1.5)\n",
      "Requirement already satisfied: markdown-it-py>=2.2.0 in c:\\users\\allab\\appdata\\local\\programs\\python\\python312\\lib\\site-packages (from rich->keras>=3.2.0->tensorflow-intel==2.17.0->tensorflow) (3.0.0)\n",
      "Requirement already satisfied: pygments<3.0.0,>=2.13.0 in c:\\users\\allab\\appdata\\local\\programs\\python\\python312\\lib\\site-packages (from rich->keras>=3.2.0->tensorflow-intel==2.17.0->tensorflow) (2.17.2)\n",
      "Requirement already satisfied: mdurl~=0.1 in c:\\users\\allab\\appdata\\local\\programs\\python\\python312\\lib\\site-packages (from markdown-it-py>=2.2.0->rich->keras>=3.2.0->tensorflow-intel==2.17.0->tensorflow) (0.1.2)\n",
      "Downloading tensorflow-2.17.0-cp312-cp312-win_amd64.whl (2.0 kB)\n",
      "Downloading tensorflow_intel-2.17.0-cp312-cp312-win_amd64.whl (385.2 MB)\n",
      "   ---------------------------------------- 0.0/385.2 MB ? eta -:--:--\n",
      "   ---------------------------------------- 1.0/385.2 MB 6.3 MB/s eta 0:01:02\n",
      "   ---------------------------------------- 3.1/385.2 MB 8.0 MB/s eta 0:00:48\n",
      "    --------------------------------------- 5.5/385.2 MB 9.1 MB/s eta 0:00:42\n",
      "    --------------------------------------- 7.9/385.2 MB 9.7 MB/s eta 0:00:39\n",
      "   - -------------------------------------- 9.7/385.2 MB 9.7 MB/s eta 0:00:39\n",
      "   - -------------------------------------- 11.5/385.2 MB 9.6 MB/s eta 0:00:39\n",
      "   - -------------------------------------- 13.6/385.2 MB 9.6 MB/s eta 0:00:39\n",
      "   - -------------------------------------- 15.5/385.2 MB 9.5 MB/s eta 0:00:39\n",
      "   - -------------------------------------- 17.6/385.2 MB 9.5 MB/s eta 0:00:39\n",
      "   -- ------------------------------------- 19.7/385.2 MB 9.7 MB/s eta 0:00:38\n",
      "   -- ------------------------------------- 21.8/385.2 MB 9.7 MB/s eta 0:00:38\n",
      "   -- ------------------------------------- 23.9/385.2 MB 9.7 MB/s eta 0:00:38\n",
      "   -- ------------------------------------- 26.2/385.2 MB 9.8 MB/s eta 0:00:37\n",
      "   -- ------------------------------------- 28.6/385.2 MB 10.0 MB/s eta 0:00:36\n",
      "   --- ------------------------------------ 30.9/385.2 MB 10.1 MB/s eta 0:00:36\n",
      "   --- ------------------------------------ 33.3/385.2 MB 10.2 MB/s eta 0:00:35\n",
      "   --- ------------------------------------ 35.7/385.2 MB 10.3 MB/s eta 0:00:34\n",
      "   --- ------------------------------------ 38.3/385.2 MB 10.4 MB/s eta 0:00:34\n",
      "   ---- ----------------------------------- 40.6/385.2 MB 10.5 MB/s eta 0:00:33\n",
      "   ---- ----------------------------------- 43.0/385.2 MB 10.5 MB/s eta 0:00:33\n",
      "   ---- ----------------------------------- 45.4/385.2 MB 10.6 MB/s eta 0:00:33\n",
      "   ---- ----------------------------------- 47.7/385.2 MB 10.6 MB/s eta 0:00:32\n",
      "   ----- ---------------------------------- 50.1/385.2 MB 10.7 MB/s eta 0:00:32\n",
      "   ----- ---------------------------------- 52.4/385.2 MB 10.7 MB/s eta 0:00:32\n",
      "   ----- ---------------------------------- 54.8/385.2 MB 10.7 MB/s eta 0:00:31\n",
      "   ----- ---------------------------------- 57.1/385.2 MB 10.8 MB/s eta 0:00:31\n",
      "   ------ --------------------------------- 59.2/385.2 MB 10.8 MB/s eta 0:00:31\n",
      "   ------ --------------------------------- 61.6/385.2 MB 10.8 MB/s eta 0:00:31\n",
      "   ------ --------------------------------- 63.4/385.2 MB 10.8 MB/s eta 0:00:30\n",
      "   ------ --------------------------------- 65.0/385.2 MB 10.7 MB/s eta 0:00:31\n",
      "   ------ --------------------------------- 67.1/385.2 MB 10.6 MB/s eta 0:00:30\n",
      "   ------- -------------------------------- 69.5/385.2 MB 10.6 MB/s eta 0:00:30\n",
      "   ------- -------------------------------- 71.8/385.2 MB 10.7 MB/s eta 0:00:30\n",
      "   ------- -------------------------------- 73.7/385.2 MB 10.7 MB/s eta 0:00:30\n",
      "   ------- -------------------------------- 76.0/385.2 MB 10.7 MB/s eta 0:00:30\n",
      "   -------- ------------------------------- 78.4/385.2 MB 10.7 MB/s eta 0:00:29\n",
      "   -------- ------------------------------- 80.7/385.2 MB 10.7 MB/s eta 0:00:29\n",
      "   -------- ------------------------------- 83.4/385.2 MB 10.7 MB/s eta 0:00:29\n",
      "   -------- ------------------------------- 85.7/385.2 MB 10.7 MB/s eta 0:00:28\n",
      "   --------- ------------------------------ 88.1/385.2 MB 10.7 MB/s eta 0:00:28\n",
      "   --------- ------------------------------ 90.4/385.2 MB 10.8 MB/s eta 0:00:28\n",
      "   --------- ------------------------------ 92.5/385.2 MB 10.8 MB/s eta 0:00:28\n",
      "   --------- ------------------------------ 94.6/385.2 MB 10.8 MB/s eta 0:00:27\n",
      "   ---------- ----------------------------- 96.7/385.2 MB 10.7 MB/s eta 0:00:27\n",
      "   ---------- ----------------------------- 99.1/385.2 MB 10.8 MB/s eta 0:00:27\n",
      "   ---------- ---------------------------- 101.4/385.2 MB 10.8 MB/s eta 0:00:27\n",
      "   ---------- ---------------------------- 104.1/385.2 MB 10.8 MB/s eta 0:00:27\n",
      "   ---------- ---------------------------- 106.4/385.2 MB 10.8 MB/s eta 0:00:26\n",
      "   ---------- ---------------------------- 108.5/385.2 MB 10.8 MB/s eta 0:00:26\n",
      "   ----------- --------------------------- 110.9/385.2 MB 10.8 MB/s eta 0:00:26\n",
      "   ----------- --------------------------- 113.5/385.2 MB 10.8 MB/s eta 0:00:26\n",
      "   ----------- --------------------------- 115.9/385.2 MB 10.8 MB/s eta 0:00:25\n",
      "   ----------- --------------------------- 118.0/385.2 MB 10.8 MB/s eta 0:00:25\n",
      "   ------------ -------------------------- 120.1/385.2 MB 10.8 MB/s eta 0:00:25\n",
      "   ------------ -------------------------- 122.4/385.2 MB 10.8 MB/s eta 0:00:25\n",
      "   ------------ -------------------------- 124.5/385.2 MB 10.8 MB/s eta 0:00:25\n",
      "   ------------ -------------------------- 126.9/385.2 MB 10.8 MB/s eta 0:00:24\n",
      "   ------------- ------------------------- 129.0/385.2 MB 10.8 MB/s eta 0:00:24\n",
      "   ------------- ------------------------- 131.6/385.2 MB 10.8 MB/s eta 0:00:24\n",
      "   ------------- ------------------------- 134.0/385.2 MB 10.8 MB/s eta 0:00:24\n",
      "   ------------- ------------------------- 136.3/385.2 MB 10.8 MB/s eta 0:00:23\n",
      "   -------------- ------------------------ 138.4/385.2 MB 10.8 MB/s eta 0:00:23\n",
      "   -------------- ------------------------ 140.8/385.2 MB 10.8 MB/s eta 0:00:23\n",
      "   -------------- ------------------------ 142.9/385.2 MB 10.8 MB/s eta 0:00:23\n",
      "   -------------- ------------------------ 145.2/385.2 MB 10.9 MB/s eta 0:00:23\n",
      "   -------------- ------------------------ 147.6/385.2 MB 10.9 MB/s eta 0:00:22\n",
      "   --------------- ----------------------- 149.9/385.2 MB 10.9 MB/s eta 0:00:22\n",
      "   --------------- ----------------------- 152.0/385.2 MB 10.9 MB/s eta 0:00:22\n",
      "   --------------- ----------------------- 154.1/385.2 MB 10.8 MB/s eta 0:00:22\n",
      "   --------------- ----------------------- 156.0/385.2 MB 10.8 MB/s eta 0:00:22\n",
      "   ---------------- ---------------------- 158.1/385.2 MB 10.8 MB/s eta 0:00:21\n",
      "   ---------------- ---------------------- 159.6/385.2 MB 10.8 MB/s eta 0:00:21\n",
      "   ---------------- ---------------------- 161.7/385.2 MB 10.8 MB/s eta 0:00:21\n",
      "   ---------------- ---------------------- 163.8/385.2 MB 10.7 MB/s eta 0:00:21\n",
      "   ---------------- ---------------------- 166.2/385.2 MB 10.7 MB/s eta 0:00:21\n",
      "   ----------------- --------------------- 168.6/385.2 MB 10.8 MB/s eta 0:00:21\n",
      "   ----------------- --------------------- 170.7/385.2 MB 10.8 MB/s eta 0:00:20\n",
      "   ----------------- --------------------- 173.0/385.2 MB 10.8 MB/s eta 0:00:20\n",
      "   ----------------- --------------------- 175.4/385.2 MB 10.8 MB/s eta 0:00:20\n",
      "   ----------------- --------------------- 177.5/385.2 MB 10.8 MB/s eta 0:00:20\n",
      "   ------------------ -------------------- 180.1/385.2 MB 10.8 MB/s eta 0:00:20\n",
      "   ------------------ -------------------- 182.5/385.2 MB 10.8 MB/s eta 0:00:19\n",
      "   ------------------ -------------------- 184.8/385.2 MB 10.8 MB/s eta 0:00:19\n",
      "   ------------------ -------------------- 187.2/385.2 MB 10.8 MB/s eta 0:00:19\n",
      "   ------------------- ------------------- 189.5/385.2 MB 10.8 MB/s eta 0:00:19\n",
      "   ------------------- ------------------- 191.9/385.2 MB 10.8 MB/s eta 0:00:18\n",
      "   ------------------- ------------------- 194.5/385.2 MB 10.8 MB/s eta 0:00:18\n",
      "   ------------------- ------------------- 196.9/385.2 MB 10.9 MB/s eta 0:00:18\n",
      "   -------------------- ------------------ 199.2/385.2 MB 10.9 MB/s eta 0:00:18\n",
      "   -------------------- ------------------ 201.6/385.2 MB 10.9 MB/s eta 0:00:17\n",
      "   -------------------- ------------------ 203.9/385.2 MB 10.9 MB/s eta 0:00:17\n",
      "   -------------------- ------------------ 206.3/385.2 MB 10.9 MB/s eta 0:00:17\n",
      "   --------------------- ----------------- 208.4/385.2 MB 10.9 MB/s eta 0:00:17\n",
      "   --------------------- ----------------- 210.8/385.2 MB 10.9 MB/s eta 0:00:16\n",
      "   --------------------- ----------------- 213.1/385.2 MB 10.9 MB/s eta 0:00:16\n",
      "   --------------------- ----------------- 215.2/385.2 MB 10.9 MB/s eta 0:00:16\n",
      "   ---------------------- ---------------- 217.6/385.2 MB 10.9 MB/s eta 0:00:16\n",
      "   ---------------------- ---------------- 219.9/385.2 MB 10.9 MB/s eta 0:00:16\n",
      "   ---------------------- ---------------- 222.3/385.2 MB 10.9 MB/s eta 0:00:15\n",
      "   ---------------------- ---------------- 224.7/385.2 MB 10.9 MB/s eta 0:00:15\n",
      "   ---------------------- ---------------- 227.0/385.2 MB 10.9 MB/s eta 0:00:15\n",
      "   ----------------------- --------------- 229.4/385.2 MB 10.9 MB/s eta 0:00:15\n",
      "   ----------------------- --------------- 231.2/385.2 MB 10.9 MB/s eta 0:00:15\n",
      "   ----------------------- --------------- 233.3/385.2 MB 10.9 MB/s eta 0:00:14\n",
      "   ----------------------- --------------- 235.4/385.2 MB 10.9 MB/s eta 0:00:14\n",
      "   ------------------------ -------------- 237.8/385.2 MB 10.9 MB/s eta 0:00:14\n",
      "   ------------------------ -------------- 240.1/385.2 MB 10.9 MB/s eta 0:00:14\n",
      "   ------------------------ -------------- 242.5/385.2 MB 10.9 MB/s eta 0:00:14\n",
      "   ------------------------ -------------- 245.1/385.2 MB 10.9 MB/s eta 0:00:13\n",
      "   ------------------------- ------------- 247.5/385.2 MB 10.9 MB/s eta 0:00:13\n",
      "   ------------------------- ------------- 249.8/385.2 MB 10.9 MB/s eta 0:00:13\n",
      "   ------------------------- ------------- 252.2/385.2 MB 10.9 MB/s eta 0:00:13\n",
      "   ------------------------- ------------- 253.8/385.2 MB 10.9 MB/s eta 0:00:13\n",
      "   ------------------------- ------------- 255.9/385.2 MB 10.9 MB/s eta 0:00:12\n",
      "   -------------------------- ------------ 258.2/385.2 MB 10.9 MB/s eta 0:00:12\n",
      "   -------------------------- ------------ 260.3/385.2 MB 10.9 MB/s eta 0:00:12\n",
      "   -------------------------- ------------ 262.7/385.2 MB 10.9 MB/s eta 0:00:12\n",
      "   -------------------------- ------------ 264.8/385.2 MB 10.9 MB/s eta 0:00:12\n",
      "   --------------------------- ----------- 266.9/385.2 MB 10.9 MB/s eta 0:00:11\n",
      "   --------------------------- ----------- 269.2/385.2 MB 10.9 MB/s eta 0:00:11\n",
      "   --------------------------- ----------- 271.3/385.2 MB 10.9 MB/s eta 0:00:11\n",
      "   --------------------------- ----------- 273.7/385.2 MB 11.0 MB/s eta 0:00:11\n",
      "   --------------------------- ----------- 276.3/385.2 MB 11.0 MB/s eta 0:00:10\n",
      "   ---------------------------- ---------- 278.7/385.2 MB 11.0 MB/s eta 0:00:10\n",
      "   ---------------------------- ---------- 281.0/385.2 MB 11.0 MB/s eta 0:00:10\n",
      "   ---------------------------- ---------- 283.1/385.2 MB 11.0 MB/s eta 0:00:10\n",
      "   ---------------------------- ---------- 285.2/385.2 MB 11.0 MB/s eta 0:00:10\n",
      "   ----------------------------- --------- 287.6/385.2 MB 11.0 MB/s eta 0:00:09\n",
      "   ----------------------------- --------- 289.9/385.2 MB 11.0 MB/s eta 0:00:09\n",
      "   ----------------------------- --------- 292.0/385.2 MB 11.0 MB/s eta 0:00:09\n",
      "   ----------------------------- --------- 293.9/385.2 MB 11.0 MB/s eta 0:00:09\n",
      "   ----------------------------- --------- 296.0/385.2 MB 11.0 MB/s eta 0:00:09\n",
      "   ------------------------------ -------- 298.3/385.2 MB 11.0 MB/s eta 0:00:08\n",
      "   ------------------------------ -------- 300.7/385.2 MB 11.0 MB/s eta 0:00:08\n",
      "   ------------------------------ -------- 303.0/385.2 MB 11.0 MB/s eta 0:00:08\n",
      "   ------------------------------ -------- 305.4/385.2 MB 11.0 MB/s eta 0:00:08\n",
      "   ------------------------------- ------- 307.8/385.2 MB 11.0 MB/s eta 0:00:08\n",
      "   ------------------------------- ------- 310.4/385.2 MB 11.0 MB/s eta 0:00:07\n",
      "   ------------------------------- ------- 312.7/385.2 MB 11.0 MB/s eta 0:00:07\n",
      "   ------------------------------- ------- 315.1/385.2 MB 11.0 MB/s eta 0:00:07\n",
      "   -------------------------------- ------ 317.2/385.2 MB 11.0 MB/s eta 0:00:07\n",
      "   -------------------------------- ------ 319.6/385.2 MB 11.0 MB/s eta 0:00:06\n",
      "   -------------------------------- ------ 322.2/385.2 MB 11.0 MB/s eta 0:00:06\n",
      "   -------------------------------- ------ 324.5/385.2 MB 11.0 MB/s eta 0:00:06\n",
      "   --------------------------------- ----- 326.9/385.2 MB 11.0 MB/s eta 0:00:06\n",
      "   --------------------------------- ----- 329.3/385.2 MB 11.0 MB/s eta 0:00:06\n",
      "   --------------------------------- ----- 331.6/385.2 MB 11.0 MB/s eta 0:00:05\n",
      "   --------------------------------- ----- 334.0/385.2 MB 11.0 MB/s eta 0:00:05\n",
      "   ---------------------------------- ---- 336.3/385.2 MB 11.0 MB/s eta 0:00:05\n",
      "   ---------------------------------- ---- 338.7/385.2 MB 11.0 MB/s eta 0:00:05\n",
      "   ---------------------------------- ---- 341.3/385.2 MB 11.0 MB/s eta 0:00:04\n",
      "   ---------------------------------- ---- 343.7/385.2 MB 11.0 MB/s eta 0:00:04\n",
      "   ----------------------------------- --- 346.0/385.2 MB 11.1 MB/s eta 0:00:04\n",
      "   ----------------------------------- --- 348.4/385.2 MB 11.1 MB/s eta 0:00:04\n",
      "   ----------------------------------- --- 350.7/385.2 MB 11.1 MB/s eta 0:00:04\n",
      "   ----------------------------------- --- 353.1/385.2 MB 11.1 MB/s eta 0:00:03\n",
      "   ----------------------------------- --- 355.5/385.2 MB 11.1 MB/s eta 0:00:03\n",
      "   ------------------------------------ -- 357.8/385.2 MB 11.1 MB/s eta 0:00:03\n",
      "   ------------------------------------ -- 359.9/385.2 MB 11.1 MB/s eta 0:00:03\n",
      "   ------------------------------------ -- 362.3/385.2 MB 11.1 MB/s eta 0:00:03\n",
      "   ------------------------------------ -- 364.4/385.2 MB 11.1 MB/s eta 0:00:02\n",
      "   ------------------------------------- - 366.7/385.2 MB 11.1 MB/s eta 0:00:02\n",
      "   ------------------------------------- - 369.1/385.2 MB 11.1 MB/s eta 0:00:02\n",
      "   ------------------------------------- - 371.5/385.2 MB 11.1 MB/s eta 0:00:02\n",
      "   ------------------------------------- - 373.8/385.2 MB 11.1 MB/s eta 0:00:02\n",
      "   --------------------------------------  376.2/385.2 MB 11.1 MB/s eta 0:00:01\n",
      "   --------------------------------------  378.5/385.2 MB 11.1 MB/s eta 0:00:01\n",
      "   --------------------------------------  380.9/385.2 MB 11.1 MB/s eta 0:00:01\n",
      "   --------------------------------------  383.0/385.2 MB 11.1 MB/s eta 0:00:01\n",
      "   --------------------------------------  385.1/385.2 MB 11.1 MB/s eta 0:00:01\n",
      "   --------------------------------------  385.1/385.2 MB 11.1 MB/s eta 0:00:01\n",
      "   --------------------------------------  385.1/385.2 MB 11.1 MB/s eta 0:00:01\n",
      "   --------------------------------------  385.1/385.2 MB 11.1 MB/s eta 0:00:01\n",
      "   --------------------------------------  385.1/385.2 MB 11.1 MB/s eta 0:00:01\n",
      "   --------------------------------------  385.1/385.2 MB 11.1 MB/s eta 0:00:01\n",
      "   --------------------------------------  385.1/385.2 MB 11.1 MB/s eta 0:00:01\n",
      "   --------------------------------------  385.1/385.2 MB 11.1 MB/s eta 0:00:01\n",
      "   --------------------------------------  385.1/385.2 MB 11.1 MB/s eta 0:00:01\n",
      "   --------------------------------------  385.1/385.2 MB 11.1 MB/s eta 0:00:01\n",
      "   --------------------------------------- 385.2/385.2 MB 10.2 MB/s eta 0:00:00\n",
      "Downloading tensorboard-2.17.1-py3-none-any.whl (5.5 MB)\n",
      "   ---------------------------------------- 0.0/5.5 MB ? eta -:--:--\n",
      "   ----------- ---------------------------- 1.6/5.5 MB 9.3 MB/s eta 0:00:01\n",
      "   ---------------------------- ----------- 3.9/5.5 MB 10.2 MB/s eta 0:00:01\n",
      "   ---------------------------------------- 5.5/5.5 MB 9.9 MB/s eta 0:00:00\n",
      "Installing collected packages: tensorboard, tensorflow-intel, tensorflow\n",
      "  Attempting uninstall: tensorboard\n",
      "    Found existing installation: tensorboard 2.16.2\n",
      "    Uninstalling tensorboard-2.16.2:\n",
      "      Successfully uninstalled tensorboard-2.16.2\n",
      "  Attempting uninstall: tensorflow-intel\n",
      "    Found existing installation: tensorflow-intel 2.16.1\n",
      "    Uninstalling tensorflow-intel-2.16.1:\n",
      "      Successfully uninstalled tensorflow-intel-2.16.1\n",
      "  Attempting uninstall: tensorflow\n",
      "    Found existing installation: tensorflow 2.16.1\n",
      "    Uninstalling tensorflow-2.16.1:\n",
      "      Successfully uninstalled tensorflow-2.16.1\n",
      "Successfully installed tensorboard-2.17.1 tensorflow-2.17.0 tensorflow-intel-2.17.0\n",
      "Note: you may need to restart the kernel to use updated packages.\n"
     ]
    }
   ],
   "source": [
    "pip install --upgrade tensorflow"
   ]
  },
  {
   "cell_type": "code",
   "execution_count": 2,
   "id": "fe5caebf",
   "metadata": {
    "scrolled": true
   },
   "outputs": [
    {
     "name": "stdout",
     "output_type": "stream",
     "text": [
      "Requirement already satisfied: keras in c:\\users\\allab\\appdata\\local\\programs\\python\\python312\\lib\\site-packages (3.2.1)\n",
      "Collecting keras\n",
      "  Downloading keras-3.5.0-py3-none-any.whl.metadata (5.8 kB)\n",
      "Requirement already satisfied: absl-py in c:\\users\\allab\\appdata\\local\\programs\\python\\python312\\lib\\site-packages (from keras) (2.1.0)\n",
      "Requirement already satisfied: numpy in c:\\users\\allab\\appdata\\local\\programs\\python\\python312\\lib\\site-packages (from keras) (1.26.4)\n",
      "Requirement already satisfied: rich in c:\\users\\allab\\appdata\\local\\programs\\python\\python312\\lib\\site-packages (from keras) (13.7.1)\n",
      "Requirement already satisfied: namex in c:\\users\\allab\\appdata\\local\\programs\\python\\python312\\lib\\site-packages (from keras) (0.0.8)\n",
      "Requirement already satisfied: h5py in c:\\users\\allab\\appdata\\local\\programs\\python\\python312\\lib\\site-packages (from keras) (3.11.0)\n",
      "Requirement already satisfied: optree in c:\\users\\allab\\appdata\\local\\programs\\python\\python312\\lib\\site-packages (from keras) (0.11.0)\n",
      "Requirement already satisfied: ml-dtypes in c:\\users\\allab\\appdata\\local\\programs\\python\\python312\\lib\\site-packages (from keras) (0.3.2)\n",
      "Requirement already satisfied: packaging in c:\\users\\allab\\appdata\\local\\programs\\python\\python312\\lib\\site-packages (from keras) (24.0)\n",
      "Requirement already satisfied: typing-extensions>=4.0.0 in c:\\users\\allab\\appdata\\local\\programs\\python\\python312\\lib\\site-packages (from optree->keras) (4.11.0)\n",
      "Requirement already satisfied: markdown-it-py>=2.2.0 in c:\\users\\allab\\appdata\\local\\programs\\python\\python312\\lib\\site-packages (from rich->keras) (3.0.0)\n",
      "Requirement already satisfied: pygments<3.0.0,>=2.13.0 in c:\\users\\allab\\appdata\\local\\programs\\python\\python312\\lib\\site-packages (from rich->keras) (2.17.2)\n",
      "Requirement already satisfied: mdurl~=0.1 in c:\\users\\allab\\appdata\\local\\programs\\python\\python312\\lib\\site-packages (from markdown-it-py>=2.2.0->rich->keras) (0.1.2)\n",
      "Downloading keras-3.5.0-py3-none-any.whl (1.1 MB)\n",
      "   ---------------------------------------- 0.0/1.1 MB ? eta -:--:--\n",
      "   ------------------------------------ --- 1.0/1.1 MB 7.2 MB/s eta 0:00:01\n",
      "   ---------------------------------------- 1.1/1.1 MB 3.5 MB/s eta 0:00:00\n",
      "Installing collected packages: keras\n",
      "  Attempting uninstall: keras\n",
      "    Found existing installation: keras 3.2.1\n",
      "    Uninstalling keras-3.2.1:\n",
      "      Successfully uninstalled keras-3.2.1\n",
      "Successfully installed keras-3.5.0\n",
      "Note: you may need to restart the kernel to use updated packages.\n"
     ]
    }
   ],
   "source": [
    "pip install --upgrade keras"
   ]
  },
  {
   "cell_type": "code",
   "execution_count": 4,
   "id": "22d41d73",
   "metadata": {},
   "outputs": [
    {
     "name": "stdout",
     "output_type": "stream",
     "text": [
      "Requirement already satisfied: pip in c:\\users\\allab\\appdata\\local\\programs\\python\\python312\\lib\\site-packages (24.2)\n",
      "Note: you may need to restart the kernel to use updated packages.\n"
     ]
    }
   ],
   "source": [
    "pip install --upgrade pip"
   ]
  },
  {
   "cell_type": "code",
   "execution_count": 7,
   "id": "abe9c3d7",
   "metadata": {},
   "outputs": [],
   "source": [
    "import numpy as np\n",
    "import pandas as pd\n",
    "import matplotlib.pyplot as plt#to plot accuracy\n",
    "import cv2\n",
    "import tensorflow as tf\n",
    "from PIL import Image\n",
    "import os\n",
    "from sklearn.model_selection import train_test_split #to split training and testing data\n",
    "from keras.utils import to_categorical#to convert the labels present in y_train and t_test into one-hot encoding\n",
    "from tensorflow.keras.models import Sequential, load_model\n",
    "from tensorflow.keras.layers import Conv2D, MaxPooling2D, Flatten, Dense, Dropout#to create CNN"
   ]
  },
  {
   "cell_type": "code",
   "execution_count": 8,
   "id": "cfdbe98e",
   "metadata": {},
   "outputs": [],
   "source": [
    "DATA = []\n",
    "classes = 23\n",
    "DATA_PATH = r\"C:\\Users\\allab\\Desktop\\Voice Based Traffic Sign Recognition Using Deep Learning\\OriginalTrafficSignData\"\n",
    "os.chdir(DATA_PATH)\n",
    "cur_path = os.getcwd()"
   ]
  },
  {
   "cell_type": "code",
   "execution_count": 10,
   "id": "cb84a591",
   "metadata": {},
   "outputs": [
    {
     "name": "stdout",
     "output_type": "stream",
     "text": [
      "Reading label 0 data...\n",
      "Reading label 0 data completed.\n",
      "Reading label 1 data...\n",
      "Reading label 1 data completed.\n",
      "Reading label 2 data...\n",
      "Reading label 2 data completed.\n",
      "Reading label 3 data...\n",
      "Reading label 3 data completed.\n",
      "Reading label 4 data...\n",
      "Reading label 4 data completed.\n",
      "Reading label 5 data...\n",
      "Reading label 5 data completed.\n",
      "Reading label 6 data...\n",
      "Reading label 6 data completed.\n",
      "Reading label 7 data...\n",
      "Reading label 7 data completed.\n",
      "Reading label 8 data...\n",
      "Reading label 8 data completed.\n",
      "Reading label 9 data...\n",
      "Reading label 9 data completed.\n",
      "Reading label 10 data...\n",
      "Reading label 10 data completed.\n",
      "Reading label 11 data...\n",
      "Reading label 11 data completed.\n",
      "Reading label 12 data...\n",
      "Reading label 12 data completed.\n",
      "Reading label 13 data...\n",
      "Reading label 13 data completed.\n",
      "Reading label 14 data...\n",
      "Reading label 14 data completed.\n",
      "Reading label 15 data...\n",
      "Reading label 15 data completed.\n",
      "Reading label 16 data...\n",
      "Reading label 16 data completed.\n",
      "Reading label 17 data...\n",
      "Reading label 17 data completed.\n",
      "Reading label 18 data...\n",
      "Reading label 18 data completed.\n",
      "Reading label 19 data...\n",
      "Reading label 19 data completed.\n",
      "Reading label 20 data...\n",
      "Reading label 20 data completed.\n",
      "Reading label 21 data...\n",
      "Reading label 21 data completed.\n",
      "Reading label 22 data...\n",
      "Reading label 22 data completed.\n"
     ]
    }
   ],
   "source": [
    "#Retrieving the images and their labels\n",
    "for label in range(classes):\n",
    "    print(\"Reading label \" + str(label) + \" data...\")\n",
    "    path = os.path.join(cur_path,str(label))\n",
    "    images = os.listdir(path)\n",
    "    for img in images:\n",
    "        try:\n",
    "            image = Image.open(path + '/'+ img)\n",
    "            image = image.convert('RGB')\n",
    "            image = image.resize((30,30))\n",
    "            image = np.expand_dims(image, axis=0)\n",
    "            image = np.array(image)\n",
    "            DATA.append([image, label])\n",
    "        except:\n",
    "            print(\"Error loading image\")\n",
    "    print(\"Reading label \" + str(label) + \" data completed.\")\n",
    "    "
   ]
  },
  {
   "cell_type": "code",
   "execution_count": 11,
   "id": "5d6a60fa",
   "metadata": {},
   "outputs": [
    {
     "name": "stdout",
     "output_type": "stream",
     "text": [
      "(1, 30, 30, 3)\n",
      "106106\n"
     ]
    }
   ],
   "source": [
    "print(DATA[0][0].shape)\n",
    "print(len(DATA))"
   ]
  },
  {
   "cell_type": "code",
   "execution_count": 12,
   "id": "2a8ef3b4",
   "metadata": {},
   "outputs": [],
   "source": [
    "import pickle as pk\n",
    "import random"
   ]
  },
  {
   "cell_type": "code",
   "execution_count": 14,
   "id": "02097b45-75e1-4fe2-a2fe-f916a7db6059",
   "metadata": {},
   "outputs": [],
   "source": [
    "# Define the path\n",
    "directory = r'C:\\Users\\allab\\Desktop\\Voice Based Traffic Sign Recognition Using Deep Learning'\n",
    "\n",
    "# Create the directory if it doesn't exist\n",
    "if not os.path.exists(directory):\n",
    "    os.makedirs(directory)\n",
    "\n",
    "# Define the file path\n",
    "dumpfile_path = os.path.join(directory, 'dump.pickle')\n",
    "\n",
    "# Write the data to the file\n",
    "with open(dumpfile_path, 'wb') as dumpfile:\n",
    "    pk.dump(DATA, dumpfile)\n"
   ]
  },
  {
   "cell_type": "code",
   "execution_count": 15,
   "id": "7198b874-b60d-4152-9790-352e6b7d2627",
   "metadata": {},
   "outputs": [],
   "source": [
    "# Define the path\n",
    "directory = r'C:\\Users\\allab\\Desktop\\Voice Based Traffic Sign Recognition Using Deep Learning'\n",
    "\n",
    "# Define the file path\n",
    "dumpfile_path = os.path.join(directory, 'dump.pickle')\n",
    "\n",
    "# Load the data from the file\n",
    "with open(dumpfile_path, 'rb') as dumpfile:\n",
    "    DATA = pk.load(dumpfile)"
   ]
  },
  {
   "cell_type": "code",
   "execution_count": 16,
   "id": "efc81422",
   "metadata": {},
   "outputs": [
    {
     "data": {
      "text/plain": [
       "106106"
      ]
     },
     "execution_count": 16,
     "metadata": {},
     "output_type": "execute_result"
    }
   ],
   "source": [
    "len(DATA)"
   ]
  },
  {
   "cell_type": "code",
   "execution_count": 17,
   "id": "1031c622",
   "metadata": {
    "scrolled": true
   },
   "outputs": [
    {
     "name": "stdout",
     "output_type": "stream",
     "text": [
      "0\n",
      "9\n"
     ]
    }
   ],
   "source": [
    "print(DATA[0][1])\n",
    "random.shuffle(DATA)\n",
    "print(DATA[0][1])"
   ]
  },
  {
   "cell_type": "code",
   "execution_count": 18,
   "id": "92cd8d57",
   "metadata": {},
   "outputs": [],
   "source": [
    "images = []\n",
    "labels = []\n",
    "for image, label in DATA:\n",
    "    images.append(image)\n",
    "    labels.append(label)"
   ]
  },
  {
   "cell_type": "code",
   "execution_count": 19,
   "id": "d28d7a96",
   "metadata": {},
   "outputs": [
    {
     "name": "stdout",
     "output_type": "stream",
     "text": [
      "(106106, 1, 30, 30, 3) (106106,)\n"
     ]
    }
   ],
   "source": [
    "#Converting lists into numpy arrays\n",
    "images = np.array(images)\n",
    "labels = np.array(labels)\n",
    "print(images.shape, labels.shape)"
   ]
  },
  {
   "cell_type": "code",
   "execution_count": 20,
   "id": "0bc0e16e",
   "metadata": {},
   "outputs": [],
   "source": [
    "# Remove the extra dimension in images\n",
    "images = np.squeeze(images, axis=1)\n"
   ]
  },
  {
   "cell_type": "code",
   "execution_count": 21,
   "id": "1e41da07",
   "metadata": {},
   "outputs": [
    {
     "name": "stdout",
     "output_type": "stream",
     "text": [
      "(84884, 30, 30, 3) (21222, 30, 30, 3) (84884,) (21222,)\n"
     ]
    }
   ],
   "source": [
    "# Splitting training and testing dataset\n",
    "X_train, X_test, y_train, y_test = train_test_split(images, labels, test_size=0.2, random_state=42)\n",
    " \n",
    "print(X_train.shape, X_test.shape, y_train.shape, y_test.shape)"
   ]
  },
  {
   "cell_type": "code",
   "execution_count": 22,
   "id": "2ce840a6",
   "metadata": {},
   "outputs": [],
   "source": [
    "#Converting the labels into one hot encoding\n",
    "num_classes = len(np.unique(labels))\n",
    "y_train = to_categorical(y_train, num_classes)\n",
    "y_test = to_categorical(y_test, num_classes)\n",
    "\n",
    "# y_t1 = to_categorical(y_t1, 23)\n",
    "# y_t2 = to_categorical(y_t2, 23)"
   ]
  },
  {
   "cell_type": "code",
   "execution_count": 23,
   "id": "db25ea2c",
   "metadata": {
    "scrolled": true
   },
   "outputs": [
    {
     "name": "stderr",
     "output_type": "stream",
     "text": [
      "C:\\Users\\allab\\AppData\\Local\\Programs\\Python\\Python312\\Lib\\site-packages\\keras\\src\\layers\\convolutional\\base_conv.py:107: UserWarning: Do not pass an `input_shape`/`input_dim` argument to a layer. When using Sequential models, prefer using an `Input(shape)` object as the first layer in the model instead.\n",
      "  super().__init__(activity_regularizer=activity_regularizer, **kwargs)\n"
     ]
    },
    {
     "data": {
      "text/html": [
       "<pre style=\"white-space:pre;overflow-x:auto;line-height:normal;font-family:Menlo,'DejaVu Sans Mono',consolas,'Courier New',monospace\"><span style=\"font-weight: bold\">Model: \"sequential\"</span>\n",
       "</pre>\n"
      ],
      "text/plain": [
       "\u001b[1mModel: \"sequential\"\u001b[0m\n"
      ]
     },
     "metadata": {},
     "output_type": "display_data"
    },
    {
     "data": {
      "text/html": [
       "<pre style=\"white-space:pre;overflow-x:auto;line-height:normal;font-family:Menlo,'DejaVu Sans Mono',consolas,'Courier New',monospace\">┏━━━━━━━━━━━━━━━━━━━━━━━━━━━━━━━━━━━━━━┳━━━━━━━━━━━━━━━━━━━━━━━━━━━━━┳━━━━━━━━━━━━━━━━━┓\n",
       "┃<span style=\"font-weight: bold\"> Layer (type)                         </span>┃<span style=\"font-weight: bold\"> Output Shape                </span>┃<span style=\"font-weight: bold\">         Param # </span>┃\n",
       "┡━━━━━━━━━━━━━━━━━━━━━━━━━━━━━━━━━━━━━━╇━━━━━━━━━━━━━━━━━━━━━━━━━━━━━╇━━━━━━━━━━━━━━━━━┩\n",
       "│ conv2d (<span style=\"color: #0087ff; text-decoration-color: #0087ff\">Conv2D</span>)                      │ (<span style=\"color: #00d7ff; text-decoration-color: #00d7ff\">None</span>, <span style=\"color: #00af00; text-decoration-color: #00af00\">26</span>, <span style=\"color: #00af00; text-decoration-color: #00af00\">26</span>, <span style=\"color: #00af00; text-decoration-color: #00af00\">32</span>)          │           <span style=\"color: #00af00; text-decoration-color: #00af00\">2,432</span> │\n",
       "├──────────────────────────────────────┼─────────────────────────────┼─────────────────┤\n",
       "│ conv2d_1 (<span style=\"color: #0087ff; text-decoration-color: #0087ff\">Conv2D</span>)                    │ (<span style=\"color: #00d7ff; text-decoration-color: #00d7ff\">None</span>, <span style=\"color: #00af00; text-decoration-color: #00af00\">22</span>, <span style=\"color: #00af00; text-decoration-color: #00af00\">22</span>, <span style=\"color: #00af00; text-decoration-color: #00af00\">32</span>)          │          <span style=\"color: #00af00; text-decoration-color: #00af00\">25,632</span> │\n",
       "├──────────────────────────────────────┼─────────────────────────────┼─────────────────┤\n",
       "│ max_pooling2d (<span style=\"color: #0087ff; text-decoration-color: #0087ff\">MaxPooling2D</span>)         │ (<span style=\"color: #00d7ff; text-decoration-color: #00d7ff\">None</span>, <span style=\"color: #00af00; text-decoration-color: #00af00\">11</span>, <span style=\"color: #00af00; text-decoration-color: #00af00\">11</span>, <span style=\"color: #00af00; text-decoration-color: #00af00\">32</span>)          │               <span style=\"color: #00af00; text-decoration-color: #00af00\">0</span> │\n",
       "├──────────────────────────────────────┼─────────────────────────────┼─────────────────┤\n",
       "│ dropout (<span style=\"color: #0087ff; text-decoration-color: #0087ff\">Dropout</span>)                    │ (<span style=\"color: #00d7ff; text-decoration-color: #00d7ff\">None</span>, <span style=\"color: #00af00; text-decoration-color: #00af00\">11</span>, <span style=\"color: #00af00; text-decoration-color: #00af00\">11</span>, <span style=\"color: #00af00; text-decoration-color: #00af00\">32</span>)          │               <span style=\"color: #00af00; text-decoration-color: #00af00\">0</span> │\n",
       "├──────────────────────────────────────┼─────────────────────────────┼─────────────────┤\n",
       "│ conv2d_2 (<span style=\"color: #0087ff; text-decoration-color: #0087ff\">Conv2D</span>)                    │ (<span style=\"color: #00d7ff; text-decoration-color: #00d7ff\">None</span>, <span style=\"color: #00af00; text-decoration-color: #00af00\">9</span>, <span style=\"color: #00af00; text-decoration-color: #00af00\">9</span>, <span style=\"color: #00af00; text-decoration-color: #00af00\">64</span>)            │          <span style=\"color: #00af00; text-decoration-color: #00af00\">18,496</span> │\n",
       "├──────────────────────────────────────┼─────────────────────────────┼─────────────────┤\n",
       "│ conv2d_3 (<span style=\"color: #0087ff; text-decoration-color: #0087ff\">Conv2D</span>)                    │ (<span style=\"color: #00d7ff; text-decoration-color: #00d7ff\">None</span>, <span style=\"color: #00af00; text-decoration-color: #00af00\">7</span>, <span style=\"color: #00af00; text-decoration-color: #00af00\">7</span>, <span style=\"color: #00af00; text-decoration-color: #00af00\">64</span>)            │          <span style=\"color: #00af00; text-decoration-color: #00af00\">36,928</span> │\n",
       "├──────────────────────────────────────┼─────────────────────────────┼─────────────────┤\n",
       "│ max_pooling2d_1 (<span style=\"color: #0087ff; text-decoration-color: #0087ff\">MaxPooling2D</span>)       │ (<span style=\"color: #00d7ff; text-decoration-color: #00d7ff\">None</span>, <span style=\"color: #00af00; text-decoration-color: #00af00\">3</span>, <span style=\"color: #00af00; text-decoration-color: #00af00\">3</span>, <span style=\"color: #00af00; text-decoration-color: #00af00\">64</span>)            │               <span style=\"color: #00af00; text-decoration-color: #00af00\">0</span> │\n",
       "├──────────────────────────────────────┼─────────────────────────────┼─────────────────┤\n",
       "│ dropout_1 (<span style=\"color: #0087ff; text-decoration-color: #0087ff\">Dropout</span>)                  │ (<span style=\"color: #00d7ff; text-decoration-color: #00d7ff\">None</span>, <span style=\"color: #00af00; text-decoration-color: #00af00\">3</span>, <span style=\"color: #00af00; text-decoration-color: #00af00\">3</span>, <span style=\"color: #00af00; text-decoration-color: #00af00\">64</span>)            │               <span style=\"color: #00af00; text-decoration-color: #00af00\">0</span> │\n",
       "├──────────────────────────────────────┼─────────────────────────────┼─────────────────┤\n",
       "│ flatten (<span style=\"color: #0087ff; text-decoration-color: #0087ff\">Flatten</span>)                    │ (<span style=\"color: #00d7ff; text-decoration-color: #00d7ff\">None</span>, <span style=\"color: #00af00; text-decoration-color: #00af00\">576</span>)                 │               <span style=\"color: #00af00; text-decoration-color: #00af00\">0</span> │\n",
       "├──────────────────────────────────────┼─────────────────────────────┼─────────────────┤\n",
       "│ dense (<span style=\"color: #0087ff; text-decoration-color: #0087ff\">Dense</span>)                        │ (<span style=\"color: #00d7ff; text-decoration-color: #00d7ff\">None</span>, <span style=\"color: #00af00; text-decoration-color: #00af00\">256</span>)                 │         <span style=\"color: #00af00; text-decoration-color: #00af00\">147,712</span> │\n",
       "├──────────────────────────────────────┼─────────────────────────────┼─────────────────┤\n",
       "│ dropout_2 (<span style=\"color: #0087ff; text-decoration-color: #0087ff\">Dropout</span>)                  │ (<span style=\"color: #00d7ff; text-decoration-color: #00d7ff\">None</span>, <span style=\"color: #00af00; text-decoration-color: #00af00\">256</span>)                 │               <span style=\"color: #00af00; text-decoration-color: #00af00\">0</span> │\n",
       "├──────────────────────────────────────┼─────────────────────────────┼─────────────────┤\n",
       "│ dense_1 (<span style=\"color: #0087ff; text-decoration-color: #0087ff\">Dense</span>)                      │ (<span style=\"color: #00d7ff; text-decoration-color: #00d7ff\">None</span>, <span style=\"color: #00af00; text-decoration-color: #00af00\">23</span>)                  │           <span style=\"color: #00af00; text-decoration-color: #00af00\">5,911</span> │\n",
       "└──────────────────────────────────────┴─────────────────────────────┴─────────────────┘\n",
       "</pre>\n"
      ],
      "text/plain": [
       "┏━━━━━━━━━━━━━━━━━━━━━━━━━━━━━━━━━━━━━━┳━━━━━━━━━━━━━━━━━━━━━━━━━━━━━┳━━━━━━━━━━━━━━━━━┓\n",
       "┃\u001b[1m \u001b[0m\u001b[1mLayer (type)                        \u001b[0m\u001b[1m \u001b[0m┃\u001b[1m \u001b[0m\u001b[1mOutput Shape               \u001b[0m\u001b[1m \u001b[0m┃\u001b[1m \u001b[0m\u001b[1m        Param #\u001b[0m\u001b[1m \u001b[0m┃\n",
       "┡━━━━━━━━━━━━━━━━━━━━━━━━━━━━━━━━━━━━━━╇━━━━━━━━━━━━━━━━━━━━━━━━━━━━━╇━━━━━━━━━━━━━━━━━┩\n",
       "│ conv2d (\u001b[38;5;33mConv2D\u001b[0m)                      │ (\u001b[38;5;45mNone\u001b[0m, \u001b[38;5;34m26\u001b[0m, \u001b[38;5;34m26\u001b[0m, \u001b[38;5;34m32\u001b[0m)          │           \u001b[38;5;34m2,432\u001b[0m │\n",
       "├──────────────────────────────────────┼─────────────────────────────┼─────────────────┤\n",
       "│ conv2d_1 (\u001b[38;5;33mConv2D\u001b[0m)                    │ (\u001b[38;5;45mNone\u001b[0m, \u001b[38;5;34m22\u001b[0m, \u001b[38;5;34m22\u001b[0m, \u001b[38;5;34m32\u001b[0m)          │          \u001b[38;5;34m25,632\u001b[0m │\n",
       "├──────────────────────────────────────┼─────────────────────────────┼─────────────────┤\n",
       "│ max_pooling2d (\u001b[38;5;33mMaxPooling2D\u001b[0m)         │ (\u001b[38;5;45mNone\u001b[0m, \u001b[38;5;34m11\u001b[0m, \u001b[38;5;34m11\u001b[0m, \u001b[38;5;34m32\u001b[0m)          │               \u001b[38;5;34m0\u001b[0m │\n",
       "├──────────────────────────────────────┼─────────────────────────────┼─────────────────┤\n",
       "│ dropout (\u001b[38;5;33mDropout\u001b[0m)                    │ (\u001b[38;5;45mNone\u001b[0m, \u001b[38;5;34m11\u001b[0m, \u001b[38;5;34m11\u001b[0m, \u001b[38;5;34m32\u001b[0m)          │               \u001b[38;5;34m0\u001b[0m │\n",
       "├──────────────────────────────────────┼─────────────────────────────┼─────────────────┤\n",
       "│ conv2d_2 (\u001b[38;5;33mConv2D\u001b[0m)                    │ (\u001b[38;5;45mNone\u001b[0m, \u001b[38;5;34m9\u001b[0m, \u001b[38;5;34m9\u001b[0m, \u001b[38;5;34m64\u001b[0m)            │          \u001b[38;5;34m18,496\u001b[0m │\n",
       "├──────────────────────────────────────┼─────────────────────────────┼─────────────────┤\n",
       "│ conv2d_3 (\u001b[38;5;33mConv2D\u001b[0m)                    │ (\u001b[38;5;45mNone\u001b[0m, \u001b[38;5;34m7\u001b[0m, \u001b[38;5;34m7\u001b[0m, \u001b[38;5;34m64\u001b[0m)            │          \u001b[38;5;34m36,928\u001b[0m │\n",
       "├──────────────────────────────────────┼─────────────────────────────┼─────────────────┤\n",
       "│ max_pooling2d_1 (\u001b[38;5;33mMaxPooling2D\u001b[0m)       │ (\u001b[38;5;45mNone\u001b[0m, \u001b[38;5;34m3\u001b[0m, \u001b[38;5;34m3\u001b[0m, \u001b[38;5;34m64\u001b[0m)            │               \u001b[38;5;34m0\u001b[0m │\n",
       "├──────────────────────────────────────┼─────────────────────────────┼─────────────────┤\n",
       "│ dropout_1 (\u001b[38;5;33mDropout\u001b[0m)                  │ (\u001b[38;5;45mNone\u001b[0m, \u001b[38;5;34m3\u001b[0m, \u001b[38;5;34m3\u001b[0m, \u001b[38;5;34m64\u001b[0m)            │               \u001b[38;5;34m0\u001b[0m │\n",
       "├──────────────────────────────────────┼─────────────────────────────┼─────────────────┤\n",
       "│ flatten (\u001b[38;5;33mFlatten\u001b[0m)                    │ (\u001b[38;5;45mNone\u001b[0m, \u001b[38;5;34m576\u001b[0m)                 │               \u001b[38;5;34m0\u001b[0m │\n",
       "├──────────────────────────────────────┼─────────────────────────────┼─────────────────┤\n",
       "│ dense (\u001b[38;5;33mDense\u001b[0m)                        │ (\u001b[38;5;45mNone\u001b[0m, \u001b[38;5;34m256\u001b[0m)                 │         \u001b[38;5;34m147,712\u001b[0m │\n",
       "├──────────────────────────────────────┼─────────────────────────────┼─────────────────┤\n",
       "│ dropout_2 (\u001b[38;5;33mDropout\u001b[0m)                  │ (\u001b[38;5;45mNone\u001b[0m, \u001b[38;5;34m256\u001b[0m)                 │               \u001b[38;5;34m0\u001b[0m │\n",
       "├──────────────────────────────────────┼─────────────────────────────┼─────────────────┤\n",
       "│ dense_1 (\u001b[38;5;33mDense\u001b[0m)                      │ (\u001b[38;5;45mNone\u001b[0m, \u001b[38;5;34m23\u001b[0m)                  │           \u001b[38;5;34m5,911\u001b[0m │\n",
       "└──────────────────────────────────────┴─────────────────────────────┴─────────────────┘\n"
      ]
     },
     "metadata": {},
     "output_type": "display_data"
    },
    {
     "data": {
      "text/html": [
       "<pre style=\"white-space:pre;overflow-x:auto;line-height:normal;font-family:Menlo,'DejaVu Sans Mono',consolas,'Courier New',monospace\"><span style=\"font-weight: bold\"> Total params: </span><span style=\"color: #00af00; text-decoration-color: #00af00\">237,111</span> (926.21 KB)\n",
       "</pre>\n"
      ],
      "text/plain": [
       "\u001b[1m Total params: \u001b[0m\u001b[38;5;34m237,111\u001b[0m (926.21 KB)\n"
      ]
     },
     "metadata": {},
     "output_type": "display_data"
    },
    {
     "data": {
      "text/html": [
       "<pre style=\"white-space:pre;overflow-x:auto;line-height:normal;font-family:Menlo,'DejaVu Sans Mono',consolas,'Courier New',monospace\"><span style=\"font-weight: bold\"> Trainable params: </span><span style=\"color: #00af00; text-decoration-color: #00af00\">237,111</span> (926.21 KB)\n",
       "</pre>\n"
      ],
      "text/plain": [
       "\u001b[1m Trainable params: \u001b[0m\u001b[38;5;34m237,111\u001b[0m (926.21 KB)\n"
      ]
     },
     "metadata": {},
     "output_type": "display_data"
    },
    {
     "data": {
      "text/html": [
       "<pre style=\"white-space:pre;overflow-x:auto;line-height:normal;font-family:Menlo,'DejaVu Sans Mono',consolas,'Courier New',monospace\"><span style=\"font-weight: bold\"> Non-trainable params: </span><span style=\"color: #00af00; text-decoration-color: #00af00\">0</span> (0.00 B)\n",
       "</pre>\n"
      ],
      "text/plain": [
       "\u001b[1m Non-trainable params: \u001b[0m\u001b[38;5;34m0\u001b[0m (0.00 B)\n"
      ]
     },
     "metadata": {},
     "output_type": "display_data"
    }
   ],
   "source": [
    "# Building the model\n",
    "model = Sequential()\n",
    "\n",
    "model.add(Conv2D(filters=32, kernel_size=(5, 5), activation='relu', input_shape=(30, 30, 3)))\n",
    "model.add(Conv2D(filters=32, kernel_size=(5, 5), activation='relu'))\n",
    "model.add(MaxPooling2D(pool_size=(2, 2)))\n",
    "model.add(Dropout(rate=0.25))\n",
    "model.add(Conv2D(filters=64, kernel_size=(3, 3), activation='relu'))\n",
    "model.add(Conv2D(filters=64, kernel_size=(3, 3), activation='relu'))\n",
    "model.add(MaxPooling2D(pool_size=(2, 2)))\n",
    "model.add(Dropout(rate=0.25))\n",
    "model.add(Flatten())\n",
    "model.add(Dense(256, activation='relu'))\n",
    "model.add(Dropout(rate=0.5))\n",
    "model.add(Dense(num_classes, activation='softmax'))\n",
    "\n",
    "# Print model summary\n",
    "model.summary()"
   ]
  },
  {
   "cell_type": "code",
   "execution_count": 24,
   "id": "7605178e",
   "metadata": {},
   "outputs": [
    {
     "name": "stdout",
     "output_type": "stream",
     "text": [
      "Epoch 1/10\n",
      "\u001b[1m664/664\u001b[0m \u001b[32m━━━━━━━━━━━━━━━━━━━━\u001b[0m\u001b[37m\u001b[0m \u001b[1m54s\u001b[0m 79ms/step - accuracy: 0.2281 - loss: 3.8097 - val_accuracy: 0.7983 - val_loss: 0.7157\n",
      "Epoch 2/10\n",
      "\u001b[1m664/664\u001b[0m \u001b[32m━━━━━━━━━━━━━━━━━━━━\u001b[0m\u001b[37m\u001b[0m \u001b[1m53s\u001b[0m 81ms/step - accuracy: 0.7458 - loss: 0.7640 - val_accuracy: 0.9715 - val_loss: 0.1182\n",
      "Epoch 3/10\n",
      "\u001b[1m664/664\u001b[0m \u001b[32m━━━━━━━━━━━━━━━━━━━━\u001b[0m\u001b[37m\u001b[0m \u001b[1m54s\u001b[0m 81ms/step - accuracy: 0.9077 - loss: 0.2917 - val_accuracy: 0.9896 - val_loss: 0.0528\n",
      "Epoch 4/10\n",
      "\u001b[1m664/664\u001b[0m \u001b[32m━━━━━━━━━━━━━━━━━━━━\u001b[0m\u001b[37m\u001b[0m \u001b[1m54s\u001b[0m 81ms/step - accuracy: 0.9461 - loss: 0.1772 - val_accuracy: 0.9940 - val_loss: 0.0277\n",
      "Epoch 5/10\n",
      "\u001b[1m664/664\u001b[0m \u001b[32m━━━━━━━━━━━━━━━━━━━━\u001b[0m\u001b[37m\u001b[0m \u001b[1m53s\u001b[0m 79ms/step - accuracy: 0.9577 - loss: 0.1436 - val_accuracy: 0.9932 - val_loss: 0.0248\n",
      "Epoch 6/10\n",
      "\u001b[1m664/664\u001b[0m \u001b[32m━━━━━━━━━━━━━━━━━━━━\u001b[0m\u001b[37m\u001b[0m \u001b[1m54s\u001b[0m 81ms/step - accuracy: 0.9720 - loss: 0.0945 - val_accuracy: 0.9973 - val_loss: 0.0119\n",
      "Epoch 7/10\n",
      "\u001b[1m664/664\u001b[0m \u001b[32m━━━━━━━━━━━━━━━━━━━━\u001b[0m\u001b[37m\u001b[0m \u001b[1m54s\u001b[0m 81ms/step - accuracy: 0.9739 - loss: 0.0915 - val_accuracy: 0.9946 - val_loss: 0.0204\n",
      "Epoch 8/10\n",
      "\u001b[1m664/664\u001b[0m \u001b[32m━━━━━━━━━━━━━━━━━━━━\u001b[0m\u001b[37m\u001b[0m \u001b[1m54s\u001b[0m 81ms/step - accuracy: 0.9774 - loss: 0.0851 - val_accuracy: 0.9938 - val_loss: 0.0236\n",
      "Epoch 9/10\n",
      "\u001b[1m664/664\u001b[0m \u001b[32m━━━━━━━━━━━━━━━━━━━━\u001b[0m\u001b[37m\u001b[0m \u001b[1m54s\u001b[0m 81ms/step - accuracy: 0.9776 - loss: 0.0826 - val_accuracy: 0.9984 - val_loss: 0.0084\n",
      "Epoch 10/10\n",
      "\u001b[1m664/664\u001b[0m \u001b[32m━━━━━━━━━━━━━━━━━━━━\u001b[0m\u001b[37m\u001b[0m \u001b[1m54s\u001b[0m 81ms/step - accuracy: 0.9784 - loss: 0.0808 - val_accuracy: 0.9975 - val_loss: 0.0107\n"
     ]
    }
   ],
   "source": [
    "#Compilation of the model\n",
    "model.compile(loss='categorical_crossentropy', optimizer='adam', metrics=['accuracy'])\n",
    "eps = 10\n",
    "anc = model.fit(X_train, y_train, batch_size=128, epochs=eps, validation_data=(X_test, y_test))"
   ]
  },
  {
   "cell_type": "code",
   "execution_count": 25,
   "id": "e63ea6ed",
   "metadata": {
    "scrolled": true
   },
   "outputs": [
    {
     "name": "stderr",
     "output_type": "stream",
     "text": [
      "WARNING:absl:You are saving your model as an HDF5 file via `model.save()` or `keras.saving.save_model(model)`. This file format is considered legacy. We recommend using instead the native Keras format, e.g. `model.save('my_model.keras')` or `keras.saving.save_model(model, 'my_model.keras')`. \n"
     ]
    }
   ],
   "source": [
    "model.save(r\"C:\\Users\\allab\\Desktop\\Voice Based Traffic Sign Recognition Using Deep Learning\\new_model.h5\")"
   ]
  },
  {
   "cell_type": "code",
   "execution_count": 26,
   "id": "2955da59",
   "metadata": {
    "scrolled": true
   },
   "outputs": [
    {
     "data": {
      "image/png": "[encoded data removed]",
      "text/plain": [
       "<Figure size 640x480 with 1 Axes>"
      ]
     },
     "metadata": {},
     "output_type": "display_data"
    },
    {
     "data": {
      "image/png": "[encoded data removed]",
      "text/plain": [
       "<Figure size 640x480 with 1 Axes>"
      ]
     },
     "metadata": {},
     "output_type": "display_data"
    }
   ],
   "source": [
    "#plotting graphs for accuracy\n",
    "plt.figure(0)\n",
    "plt.plot(anc.history['accuracy'], label='training accuracy')\n",
    "plt.plot(anc.history['val_accuracy'], label='val accuracy')\n",
    "plt.title('Accuracy')\n",
    "plt.xlabel('epochs')\n",
    "plt.ylabel('accuracy')\n",
    "plt.legend()\n",
    "plt.show()\n",
    "plt.figure(1)\n",
    "plt.plot(anc.history['loss'], label='training loss')\n",
    "plt.plot(anc.history['val_loss'], label='val loss')\n",
    "\n",
    "plt.title('Loss')\n",
    "plt.xlabel('epochs')\n",
    "plt.ylabel('loss')\n",
    "plt.legend()\n",
    "plt.show()"
   ]
  },
  {
   "cell_type": "code",
   "execution_count": 27,
   "id": "52369412",
   "metadata": {},
   "outputs": [
    {
     "name": "stdout",
     "output_type": "stream",
     "text": [
      "Collecting SpeechRecognition\n",
      "  Downloading SpeechRecognition-3.10.4-py2.py3-none-any.whl.metadata (28 kB)\n",
      "Collecting gTTS\n",
      "  Downloading gTTS-2.5.3-py3-none-any.whl.metadata (4.1 kB)\n",
      "Collecting pyglet\n",
      "  Downloading pyglet-2.0.17-py3-none-any.whl.metadata (7.9 kB)\n",
      "Requirement already satisfied: requests>=2.26.0 in c:\\users\\allab\\appdata\\local\\programs\\python\\python312\\lib\\site-packages (from SpeechRecognition) (2.31.0)\n",
      "Requirement already satisfied: typing-extensions in c:\\users\\allab\\appdata\\local\\programs\\python\\python312\\lib\\site-packages (from SpeechRecognition) (4.11.0)\n",
      "Requirement already satisfied: click<8.2,>=7.1 in c:\\users\\allab\\appdata\\local\\programs\\python\\python312\\lib\\site-packages (from gTTS) (8.1.7)\n",
      "Requirement already satisfied: colorama in c:\\users\\allab\\appdata\\local\\programs\\python\\python312\\lib\\site-packages (from click<8.2,>=7.1->gTTS) (0.4.6)\n",
      "Requirement already satisfied: charset-normalizer<4,>=2 in c:\\users\\allab\\appdata\\local\\programs\\python\\python312\\lib\\site-packages (from requests>=2.26.0->SpeechRecognition) (3.3.2)\n",
      "Requirement already satisfied: idna<4,>=2.5 in c:\\users\\allab\\appdata\\local\\programs\\python\\python312\\lib\\site-packages (from requests>=2.26.0->SpeechRecognition) (3.6)\n",
      "Requirement already satisfied: urllib3<3,>=1.21.1 in c:\\users\\allab\\appdata\\local\\programs\\python\\python312\\lib\\site-packages (from requests>=2.26.0->SpeechRecognition) (2.2.1)\n",
      "Requirement already satisfied: certifi>=2017.4.17 in c:\\users\\allab\\appdata\\local\\programs\\python\\python312\\lib\\site-packages (from requests>=2.26.0->SpeechRecognition) (2024.2.2)\n",
      "Downloading SpeechRecognition-3.10.4-py2.py3-none-any.whl (32.8 MB)\n",
      "   ---------------------------------------- 0.0/32.8 MB ? eta -:--:--\n",
      "   -- ------------------------------------- 2.1/32.8 MB 10.7 MB/s eta 0:00:03\n",
      "   ----- ---------------------------------- 4.2/32.8 MB 11.0 MB/s eta 0:00:03\n",
      "   ------- -------------------------------- 6.6/32.8 MB 11.2 MB/s eta 0:00:03\n",
      "   ---------- ----------------------------- 8.9/32.8 MB 11.1 MB/s eta 0:00:03\n",
      "   ------------- -------------------------- 11.0/32.8 MB 11.1 MB/s eta 0:00:02\n",
      "   --------------- ------------------------ 13.1/32.8 MB 11.0 MB/s eta 0:00:02\n",
      "   ------------------- -------------------- 15.7/32.8 MB 11.1 MB/s eta 0:00:02\n",
      "   ---------------------- ----------------- 18.1/32.8 MB 11.2 MB/s eta 0:00:02\n",
      "   ------------------------ --------------- 20.4/32.8 MB 11.2 MB/s eta 0:00:02\n",
      "   --------------------------- ------------ 22.8/32.8 MB 11.2 MB/s eta 0:00:01\n",
      "   ------------------------------ --------- 25.2/32.8 MB 11.2 MB/s eta 0:00:01\n",
      "   --------------------------------- ------ 27.5/32.8 MB 11.3 MB/s eta 0:00:01\n",
      "   ------------------------------------ --- 29.9/32.8 MB 11.3 MB/s eta 0:00:01\n",
      "   ---------------------------------------  32.2/32.8 MB 11.3 MB/s eta 0:00:01\n",
      "   ---------------------------------------  32.8/32.8 MB 11.3 MB/s eta 0:00:01\n",
      "   ---------------------------------------- 32.8/32.8 MB 10.7 MB/s eta 0:00:00\n",
      "Downloading gTTS-2.5.3-py3-none-any.whl (29 kB)\n",
      "Downloading pyglet-2.0.17-py3-none-any.whl (936 kB)\n",
      "   ---------------------------------------- 0.0/936.6 kB ? eta -:--:--\n",
      "   --------------------------------------- 936.6/936.6 kB 10.7 MB/s eta 0:00:00\n",
      "Installing collected packages: pyglet, SpeechRecognition, gTTS\n",
      "Successfully installed SpeechRecognition-3.10.4 gTTS-2.5.3 pyglet-2.0.17\n",
      "Note: you may need to restart the kernel to use updated packages.\n"
     ]
    }
   ],
   "source": [
    "pip install SpeechRecognition gTTS pyglet"
   ]
  }
 ],
 "metadata": {
  "kernelspec": {
   "display_name": "Python 3 (ipykernel)",
   "language": "python",
   "name": "python3"
  },
  "language_info": {
   "codemirror_mode": {
    "name": "ipython",
    "version": 3
   },
   "file_extension": ".py",
   "mimetype": "text/x-python",
   "name": "python",
   "nbconvert_exporter": "python",
   "pygments_lexer": "ipython3",
   "version": "3.12.4"
  }
 },
 "nbformat": 4,
 "nbformat_minor": 5
}
